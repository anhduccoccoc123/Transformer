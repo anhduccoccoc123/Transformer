{
 "cells": [
  {
   "cell_type": "code",
   "execution_count": 1,
   "metadata": {
    "colab": {
     "base_uri": "https://localhost:8080/"
    },
    "id": "BMXr4ijKqqGx",
    "outputId": "b1ff6ff4-d483-4930-8bde-006c7fab7acb"
   },
   "outputs": [
    {
     "name": "stdout",
     "output_type": "stream",
     "text": [
      "Sat May 29 12:05:36 2021       \n",
      "+-----------------------------------------------------------------------------+\n",
      "| NVIDIA-SMI 460.27.04    Driver Version: 460.27.04    CUDA Version: 11.2     |\n",
      "|-------------------------------+----------------------+----------------------+\n",
      "| GPU  Name        Persistence-M| Bus-Id        Disp.A | Volatile Uncorr. ECC |\n",
      "| Fan  Temp  Perf  Pwr:Usage/Cap|         Memory-Usage | GPU-Util  Compute M. |\n",
      "|                               |                      |               MIG M. |\n",
      "|===============================+======================+======================|\n",
      "|   0  GeForce GTX 1070    On   | 00000000:05:00.0 Off |                  N/A |\n",
      "|  0%   43C    P8     8W / 180W |     19MiB /  8118MiB |      0%      Default |\n",
      "|                               |                      |                  N/A |\n",
      "+-------------------------------+----------------------+----------------------+\n",
      "                                                                               \n",
      "+-----------------------------------------------------------------------------+\n",
      "| Processes:                                                                  |\n",
      "|  GPU   GI   CI        PID   Type   Process name                  GPU Memory |\n",
      "|        ID   ID                                                   Usage      |\n",
      "|=============================================================================|\n",
      "|    0   N/A  N/A      2727      G   /usr/lib/xorg/Xorg                 16MiB |\n",
      "+-----------------------------------------------------------------------------+\n"
     ]
    }
   ],
   "source": [
    "!nvidia-smi"
   ]
  },
  {
   "cell_type": "code",
   "execution_count": 2,
   "metadata": {
    "colab": {
     "base_uri": "https://localhost:8080/"
    },
    "id": "RVOKeezWPsSs",
    "outputId": "589d79bb-2d8f-449d-8499-5e56b60a3b98"
   },
   "outputs": [
    {
     "name": "stdout",
     "output_type": "stream",
     "text": [
      "\r\n",
      "\u001b[38;5;1m✘ Link 'vi_spacy_model' already exists\u001b[0m\r\n",
      "To overwrite an existing link, use the --force flag\r\n",
      "\r\n"
     ]
    },
    {
     "name": "stderr",
     "output_type": "stream",
     "text": [
      "[nltk_data] Downloading package wordnet to\n",
      "[nltk_data]     /home/nghialuan/nltk_data...\n",
      "[nltk_data]   Package wordnet is already up-to-date!\n"
     ]
    },
    {
     "data": {
      "text/plain": [
       "True"
      ]
     },
     "execution_count": 2,
     "metadata": {},
     "output_type": "execute_result"
    }
   ],
   "source": [
    "# ! pip -q install torchtext==0.6.0\n",
    "# ! pip -q install pyvi \n",
    "# ! pip -q install https://github.com/trungtv/vi_spacy/raw/master/packages/vi_spacy_model-0.2.1/dist/vi_spacy_model-0.2.1.tar.gz\n",
    "! python -m spacy link vi_spacy_model vi_spacy_model\n",
    "\n",
    "import nltk\n",
    "nltk.download('wordnet')"
   ]
  },
  {
   "cell_type": "code",
   "execution_count": 3,
   "metadata": {
    "id": "8gvN64qvNQIS"
   },
   "outputs": [],
   "source": [
    "import torch\n",
    "import torch.nn as nn\n",
    "from torch.autograd import Variable\n",
    "import torch.nn.functional as F\n",
    "import numpy as np\n",
    "import os\n",
    "import math"
   ]
  },
  {
   "cell_type": "markdown",
   "metadata": {
    "id": "MM1dnT0JKkdk"
   },
   "source": [
    "# Embedding Layer with Position Encoding\n"
   ]
  },
  {
   "cell_type": "code",
   "execution_count": 4,
   "metadata": {
    "id": "X9da_ZuSNQIW"
   },
   "outputs": [],
   "source": [
    "class Embedder(nn.Module):\n",
    "    def __init__(self, vocab_size, d_model):\n",
    "        super().__init__()\n",
    "        self.vocab_size = vocab_size\n",
    "        self.d_model = d_model\n",
    "        \n",
    "        self.embed = nn.Embedding(vocab_size, d_model)\n",
    "        \n",
    "    def forward(self, x):\n",
    "        return self.embed(x)\n",
    "    \n",
    "# Embedder(100, 512)(torch.LongTensor([1,2,3,4])).shape"
   ]
  },
  {
   "cell_type": "markdown",
   "metadata": {
    "id": "QGlFpeIQKss-"
   },
   "source": [
    "# Position encoding\n"
   ]
  },
  {
   "cell_type": "code",
   "execution_count": 5,
   "metadata": {
    "id": "rP64KizDNQIa"
   },
   "outputs": [],
   "source": [
    "class PositionalEncoder(nn.Module):\n",
    "    def __init__(self, d_model, max_seq_length=200, dropout=0.1):\n",
    "        super().__init__()\n",
    "        \n",
    "        self.d_model = d_model\n",
    "        self.dropout = nn.Dropout(dropout)\n",
    "        \n",
    "        pe = torch.zeros(max_seq_length, d_model)\n",
    "        \n",
    "        # Bảng pe \n",
    "        for pos in range(max_seq_length):\n",
    "            for i in range(0, d_model, 2):\n",
    "                pe[pos, i] = math.sin(pos/(10000**(2*i/d_model)))\n",
    "                pe[pos, i+1] = math.cos(pos/(10000**((2*i+1)/d_model)))\n",
    "        pe = pe.unsqueeze(0)        \n",
    "        self.register_buffer('pe', pe)\n",
    "    \n",
    "    def forward(self, x):\n",
    "        \n",
    "        x = x*math.sqrt(self.d_model)\n",
    "        seq_length = x.size(1)\n",
    "        \n",
    "        pe = Variable(self.pe[:, :seq_length], requires_grad=False)\n",
    "        \n",
    "        if x.is_cuda:\n",
    "            pe.cuda()\n",
    "        # cộng embedding vector với pe \n",
    "        x = x + pe\n",
    "        x = self.dropout(x)\n",
    "        \n",
    "        return x\n",
    "    \n",
    "# PositionalEncoder(512)(torch.rand(5, 30, 512)).shape"
   ]
  },
  {
   "cell_type": "markdown",
   "metadata": {
    "id": "LdEQKhVvNiSz"
   },
   "source": [
    "# Encoder"
   ]
  },
  {
   "cell_type": "code",
   "execution_count": 6,
   "metadata": {
    "id": "2nJMcGuUNQId"
   },
   "outputs": [],
   "source": [
    "def attention(q, k, v, mask=None, dropout=None):\n",
    "    \"\"\"\n",
    "    q: batch_size x head x seq_length x d_model\n",
    "    k: batch_size x head x seq_length x d_model\n",
    "    v: batch_size x head x seq_length x d_model\n",
    "    mask: batch_size x 1 x 1 x seq_length\n",
    "    output: batch_size x head x seq_length x d_model\n",
    "    \"\"\"\n",
    "\n",
    "    # attention score được tính bằng cách nhân q với k\n",
    "    d_k = q.size(-1)\n",
    "    scores = torch.matmul(q, k.transpose(-2, -1))/math.sqrt(d_k)\n",
    "    \n",
    "    if mask is not None:\n",
    "        mask = mask.unsqueeze(1)\n",
    "        scores = scores.masked_fill(mask==0, -1e9)\n",
    "    # Chuẩn hóa bằng softmax\n",
    "    scores = F.softmax(scores, dim=-1)\n",
    "    \n",
    "    if dropout is not None:\n",
    "        scores = dropout(scores)\n",
    "    \n",
    "    output = torch.matmul(scores, v)\n",
    "    return output, scores\n",
    "\n",
    "# attention(torch.rand(32, 8, 30, 512), torch.rand(32, 8, 30, 512), torch.rand(32, 8, 30, 512)).shape"
   ]
  },
  {
   "cell_type": "markdown",
   "metadata": {
    "id": "p2MzRVTgeQ0L"
   },
   "source": [
    "# Multi Head Attention"
   ]
  },
  {
   "cell_type": "code",
   "execution_count": 7,
   "metadata": {
    "id": "ANQ4C3EENQIh"
   },
   "outputs": [],
   "source": [
    "class MultiHeadAttention(nn.Module):\n",
    "    def __init__(self, heads, d_model, dropout=0.1):\n",
    "        super().__init__()\n",
    "        assert d_model % heads == 0\n",
    "        \n",
    "        self.d_model = d_model\n",
    "        self.d_k = d_model//heads\n",
    "        self.h = heads\n",
    "        self.attn = None\n",
    "\n",
    "        # tạo ra 3 ma trận trọng số là q_linear, k_linear, v_linear \n",
    "        self.q_linear = nn.Linear(d_model, d_model)\n",
    "        self.k_linear = nn.Linear(d_model, d_model)\n",
    "        self.v_linear = nn.Linear(d_model, d_model)\n",
    "        \n",
    "        self.dropout = nn.Dropout(dropout)\n",
    "        self.out = nn.Linear(d_model, d_model)\n",
    "    \n",
    "    def forward(self, q, k, v, mask=None):\n",
    "        \"\"\"\n",
    "        q: batch_size x seq_length x d_model\n",
    "        k: batch_size x seq_length x d_model\n",
    "        v: batch_size x seq_length x d_model\n",
    "        mask: batch_size x 1 x seq_length\n",
    "        output: batch_size x seq_length x d_model\n",
    "        \"\"\"\n",
    "        bs = q.size(0)\n",
    "        # nhân ma trận trọng số q_linear, k_linear, v_linear với dữ liệu đầu vào q, k, v \n",
    "        q = self.q_linear(q).view(bs, -1, self.h, self.d_k)\n",
    "        k = self.k_linear(k).view(bs, -1, self.h, self.d_k)\n",
    "        v = self.v_linear(v).view(bs, -1, self.h, self.d_k)\n",
    "        \n",
    "        q = q.transpose(1, 2)\n",
    "        k = k.transpose(1, 2)\n",
    "        v = v.transpose(1, 2)\n",
    "        \n",
    "        # tính attention score\n",
    "        scores, self.attn = attention(q, k, v, mask, self.dropout)\n",
    "        \n",
    "        concat = scores.transpose(1, 2).contiguous().view(bs, -1, self.d_model)\n",
    "        \n",
    "        output = self.out(concat)\n",
    "        return output\n",
    "\n",
    "# MultiHeadAttention(8, 512)(torch.rand(32, 30, 512), torch.rand(32, 30, 512), torch.rand(32, 30, 512)).shape"
   ]
  },
  {
   "cell_type": "markdown",
   "metadata": {
    "id": "uvOrq4-WPXYK"
   },
   "source": [
    "# Residuals Connection và Normalization Layer\n",
    "\n"
   ]
  },
  {
   "cell_type": "code",
   "execution_count": 8,
   "metadata": {
    "id": "n6-_9Hq-NQIk"
   },
   "outputs": [],
   "source": [
    "class Norm(nn.Module):\n",
    "    def __init__(self, d_model, eps = 1e-6):\n",
    "        super().__init__()\n",
    "    \n",
    "        self.size = d_model\n",
    "        \n",
    "        # create two learnable parameters to calibrate normalisation\n",
    "        self.alpha = nn.Parameter(torch.ones(self.size))\n",
    "        self.bias = nn.Parameter(torch.zeros(self.size))\n",
    "        \n",
    "        self.eps = eps\n",
    "    \n",
    "    def forward(self, x):\n",
    "        norm = self.alpha * (x - x.mean(dim=-1, keepdim=True)) \\\n",
    "        / (x.std(dim=-1, keepdim=True) + self.eps) + self.bias\n",
    "        return norm"
   ]
  },
  {
   "cell_type": "code",
   "execution_count": 9,
   "metadata": {
    "id": "H1ndbdMXNQIn"
   },
   "outputs": [],
   "source": [
    "class FeedForward(nn.Module):\n",
    "    \"\"\" Trong kiến trúc của chúng ta có tầng linear \n",
    "    \"\"\"\n",
    "    def __init__(self, d_model, d_ff=2048, dropout = 0.1):\n",
    "        super().__init__() \n",
    "    \n",
    "        # We set d_ff as a default to 2048\n",
    "        self.linear_1 = nn.Linear(d_model, d_ff)\n",
    "        self.dropout = nn.Dropout(dropout)\n",
    "        self.linear_2 = nn.Linear(d_ff, d_model)\n",
    "    \n",
    "    def forward(self, x):\n",
    "        x = self.dropout(F.relu(self.linear_1(x)))\n",
    "        x = self.linear_2(x)\n",
    "        return x"
   ]
  },
  {
   "cell_type": "code",
   "execution_count": 10,
   "metadata": {
    "id": "-Wwo91xDNQIq"
   },
   "outputs": [],
   "source": [
    "class EncoderLayer(nn.Module):\n",
    "    def __init__(self, d_model, heads, dropout=0.1):\n",
    "        super().__init__()\n",
    "        self.norm_1 = Norm(d_model)\n",
    "        self.norm_2 = Norm(d_model)\n",
    "        self.attn = MultiHeadAttention(heads, d_model, dropout=dropout)\n",
    "        self.ff = FeedForward(d_model, dropout=dropout)\n",
    "        self.dropout_1 = nn.Dropout(dropout)\n",
    "        self.dropout_2 = nn.Dropout(dropout)\n",
    "        \n",
    "    def forward(self, x, mask):\n",
    "        \"\"\"\n",
    "        x: batch_size x seq_length x d_model\n",
    "        mask: batch_size x 1 x seq_length\n",
    "        output: batch_size x seq_length x d_model\n",
    "        \"\"\"\n",
    "        \n",
    "        \n",
    "        x2 = self.norm_1(x)\n",
    "        # tính attention value, q, k, v là giống nhau        \n",
    "        x = x + self.dropout_1(self.attn(x2,x2,x2,mask))\n",
    "        x2 = self.norm_2(x)\n",
    "        x = x + self.dropout_2(self.ff(x2))\n",
    "        return x\n",
    "\n",
    "# EncoderLayer(512, 8)(torch.rand(32, 30, 512), torch.rand(32 , 1, 30)).shape"
   ]
  },
  {
   "cell_type": "markdown",
   "metadata": {
    "id": "48SiXL_zQQ9C"
   },
   "source": [
    "# Decoder With Masked Multi Head Attention"
   ]
  },
  {
   "cell_type": "code",
   "execution_count": 11,
   "metadata": {
    "id": "6mDt2NPeNQIu"
   },
   "outputs": [],
   "source": [
    "class DecoderLayer(nn.Module):\n",
    "    def __init__(self, d_model, heads, dropout=0.1):\n",
    "        super().__init__()\n",
    "        self.norm_1 = Norm(d_model)\n",
    "        self.norm_2 = Norm(d_model)\n",
    "        self.norm_3 = Norm(d_model)\n",
    "        \n",
    "        self.dropout_1 = nn.Dropout(dropout)\n",
    "        self.dropout_2 = nn.Dropout(dropout)\n",
    "        self.dropout_3 = nn.Dropout(dropout)\n",
    "        \n",
    "        self.attn_1 = MultiHeadAttention(heads, d_model, dropout=dropout)\n",
    "        self.attn_2 = MultiHeadAttention(heads, d_model, dropout=dropout)\n",
    "        self.ff = FeedForward(d_model, dropout=dropout)\n",
    "\n",
    "    def forward(self, x, e_outputs, src_mask, trg_mask):\n",
    "        \"\"\"\n",
    "        x: batch_size x seq_length x d_model\n",
    "        e_outputs: batch_size x seq_length x d_model\n",
    "        src_mask: batch_size x 1 x seq_length\n",
    "        trg_mask: batch_size x 1 x seq_length\n",
    "        \"\"\"\n",
    "        # Các bạn xem hình trên, kiến trúc mình vẽ với code ở chỗ này tương đương nhau.\n",
    "        x2 = self.norm_1(x)\n",
    "        # multihead attention thứ nhất, chú ý các từ ở target \n",
    "        x = x + self.dropout_1(self.attn_1(x2, x2, x2, trg_mask))\n",
    "        x2 = self.norm_2(x)\n",
    "        # masked mulithead attention thứ 2. k, v là giá trị output của mô hình encoder\n",
    "        x = x + self.dropout_2(self.attn_2(x2, e_outputs, e_outputs, src_mask))\n",
    "        x2 = self.norm_3(x)\n",
    "        x = x + self.dropout_3(self.ff(x2))\n",
    "        return x\n",
    "    \n",
    "# DecoderLayer(512, 8)(torch.rand(32, 30, 512), torch.rand(32, 30, 512), torch.rand(32, 1, 30), torch.rand(32, 1, 30)).shape"
   ]
  },
  {
   "cell_type": "markdown",
   "metadata": {
    "id": "lk1c6NkYIeG8"
   },
   "source": [
    "# Cài đặt Encoder\n",
    "bao gồm N encoder layer"
   ]
  },
  {
   "cell_type": "code",
   "execution_count": 12,
   "metadata": {
    "id": "ZcU8nyvzNQIx"
   },
   "outputs": [],
   "source": [
    "import copy\n",
    "\n",
    "def get_clones(module, N):\n",
    "    return nn.ModuleList([copy.deepcopy(module) for i in range(N)])\n",
    "\n",
    "class Encoder(nn.Module):\n",
    "    \"\"\"Một encoder có nhiều encoder layer nhé !!!\n",
    "    \"\"\"\n",
    "    def __init__(self, vocab_size, d_model, N, heads, dropout):\n",
    "        super().__init__()\n",
    "        self.N = N\n",
    "        self.embed = Embedder(vocab_size, d_model)\n",
    "        self.pe = PositionalEncoder(d_model, dropout=dropout)\n",
    "        self.layers = get_clones(EncoderLayer(d_model, heads, dropout), N)\n",
    "        self.norm = Norm(d_model)\n",
    "        \n",
    "    def forward(self, src, mask):\n",
    "        \"\"\"\n",
    "        src: batch_size x seq_length\n",
    "        mask: batch_size x 1 x seq_length\n",
    "        output: batch_size x seq_length x d_model\n",
    "        \"\"\"\n",
    "        x = self.embed(src)\n",
    "        x = self.pe(x)\n",
    "        for i in range(self.N):\n",
    "            x = self.layers[i](x, mask)\n",
    "        return self.norm(x)\n",
    "\n",
    "# Encoder(232, 512,6,8,0.1)(torch.LongTensor(32, 30).random_(0, 10), torch.rand(32, 1, 30)).shape"
   ]
  },
  {
   "cell_type": "markdown",
   "metadata": {
    "id": "Qip-E_TAIpmJ"
   },
   "source": [
    "# Cài đặt Decoder\n",
    "bao gồm N decoder layers"
   ]
  },
  {
   "cell_type": "code",
   "execution_count": 13,
   "metadata": {
    "id": "5lBRYMg_NQI0"
   },
   "outputs": [],
   "source": [
    "class Decoder(nn.Module):\n",
    "    \"\"\"Một decoder có nhiều decoder layer nhé !!!\n",
    "    \"\"\"\n",
    "    def __init__(self, vocab_size, d_model, N, heads, dropout):\n",
    "        super().__init__()\n",
    "        self.N = N\n",
    "        self.embed = Embedder(vocab_size, d_model)\n",
    "        self.pe = PositionalEncoder(d_model, dropout=dropout)\n",
    "        self.layers = get_clones(DecoderLayer(d_model, heads, dropout), N)\n",
    "        self.norm = Norm(d_model)\n",
    "    def forward(self, trg, e_outputs, src_mask, trg_mask):\n",
    "        \"\"\"\n",
    "        trg: batch_size x seq_length\n",
    "        e_outputs: batch_size x seq_length x d_model\n",
    "        src_mask: batch_size x 1 x seq_length\n",
    "        trg_mask: batch_size x 1 x seq_length\n",
    "        output: batch_size x seq_length x d_model\n",
    "        \"\"\"\n",
    "        x = self.embed(trg)\n",
    "        x = self.pe(x)\n",
    "        for i in range(self.N):\n",
    "            x = self.layers[i](x, e_outputs, src_mask, trg_mask)\n",
    "        return self.norm(x)\n",
    "    \n",
    "# Decoder(232, 512, 6, 8, 0.1)(torch.LongTensor(32, 30).random_(0, 10), torch.rand(32, 30, 512), torch.rand(32, 1, 30), torch.rand(32, 1, 30)).shape "
   ]
  },
  {
   "cell_type": "markdown",
   "metadata": {
    "id": "gDVQGAaMI5UU"
   },
   "source": [
    "# Cài đặt Transformer \n",
    "bao gồm encoder và decoder"
   ]
  },
  {
   "cell_type": "code",
   "execution_count": 14,
   "metadata": {
    "id": "DpxSCRILNQI3"
   },
   "outputs": [],
   "source": [
    "class Transformer(nn.Module):\n",
    "    \"\"\" Cuối cùng ghép chúng lại với nhau để được mô hình transformer hoàn chỉnh\n",
    "    \"\"\"\n",
    "    def __init__(self, src_vocab, trg_vocab, d_model, N, heads, dropout):\n",
    "        super().__init__()\n",
    "        self.encoder = Encoder(src_vocab, d_model, N, heads, dropout)\n",
    "        self.decoder = Decoder(trg_vocab, d_model, N, heads, dropout)\n",
    "        self.out = nn.Linear(d_model, trg_vocab)\n",
    "    def forward(self, src, trg, src_mask, trg_mask):\n",
    "        \"\"\"\n",
    "        src: batch_size x seq_length\n",
    "        trg: batch_size x seq_length\n",
    "        src_mask: batch_size x 1 x seq_length\n",
    "        trg_mask batch_size x 1 x seq_length\n",
    "        output: batch_size x seq_length x vocab_size\n",
    "        \"\"\"\n",
    "        e_outputs = self.encoder(src, src_mask)\n",
    "        \n",
    "        d_output = self.decoder(trg, e_outputs, src_mask, trg_mask)\n",
    "        output = self.out(d_output)\n",
    "        return output\n",
    "    \n",
    "# Transformer(232, 232, 512, 6, 8, 0.1)(torch.LongTensor(32, 30).random_(0, 10), torch.LongTensor(32, 30).random_(0, 10),torch.rand(32, 1, 30),torch.rand(32, 1, 30)).shape"
   ]
  },
  {
   "cell_type": "markdown",
   "metadata": {
    "id": "PVj-ECLzHLxf"
   },
   "source": [
    "Chúng ta sử dụng torchtext để load dữ liệu, giúp giảm thời gian và hiệu quả "
   ]
  },
  {
   "cell_type": "code",
   "execution_count": 15,
   "metadata": {
    "id": "M5tvzW9jNQI6"
   },
   "outputs": [],
   "source": [
    "from torchtext import data\n",
    "\n",
    "class MyIterator(data.Iterator):\n",
    "    def create_batches(self):\n",
    "        if self.train:\n",
    "            def pool(d, random_shuffler):\n",
    "                for p in data.batch(d, self.batch_size * 100):\n",
    "                    p_batch = data.batch(\n",
    "                        sorted(p, key=self.sort_key),\n",
    "                        self.batch_size, self.batch_size_fn)\n",
    "                    for b in random_shuffler(list(p_batch)):\n",
    "                        yield b\n",
    "            self.batches = pool(self.data(), self.random_shuffler)\n",
    "            \n",
    "        else:\n",
    "            self.batches = []\n",
    "            for b in data.batch(self.data(), self.batch_size,\n",
    "                                          self.batch_size_fn):\n",
    "                self.batches.append(sorted(b, key=self.sort_key))\n",
    "\n",
    "global max_src_in_batch, max_tgt_in_batch\n",
    "\n",
    "def batch_size_fn(new, count, sofar):\n",
    "    \"Keep augmenting batch and calculate total number of tokens + padding.\"\n",
    "    global max_src_in_batch, max_tgt_in_batch\n",
    "    if count == 1:\n",
    "        max_src_in_batch = 0\n",
    "        max_tgt_in_batch = 0\n",
    "    max_src_in_batch = max(max_src_in_batch,  len(new.src))\n",
    "    max_tgt_in_batch = max(max_tgt_in_batch,  len(new.trg) + 2)\n",
    "    src_elements = count * max_src_in_batch\n",
    "    tgt_elements = count * max_tgt_in_batch\n",
    "    return max(src_elements, tgt_elements)"
   ]
  },
  {
   "cell_type": "code",
   "execution_count": 16,
   "metadata": {
    "id": "NkBjLH96NQI8"
   },
   "outputs": [],
   "source": [
    "\n",
    "def nopeak_mask(size, device):\n",
    "    \"\"\"Tạo mask được sử dụng trong decoder để lúc dự đoán trong quá trình huấn luyện\n",
    "     mô hình không nhìn thấy được các từ ở tương lai\n",
    "    \"\"\"\n",
    "    np_mask = np.triu(np.ones((1, size, size)),\n",
    "    k=1).astype('uint8')\n",
    "    np_mask =  Variable(torch.from_numpy(np_mask) == 0)\n",
    "    np_mask = np_mask.to(device)\n",
    "    \n",
    "    return np_mask\n",
    "\n",
    "def create_masks(src, trg, src_pad, trg_pad, device):\n",
    "    \"\"\" Tạo mask cho encoder, \n",
    "    để mô hình không bỏ qua thông tin của các kí tự PAD do chúng ta thêm vào \n",
    "    \"\"\"\n",
    "    src_mask = (src != src_pad).unsqueeze(-2)\n",
    "\n",
    "    if trg is not None:\n",
    "        trg_mask = (trg != trg_pad).unsqueeze(-2)\n",
    "        size = trg.size(1) # get seq_len for matrix\n",
    "        np_mask = nopeak_mask(size, device)\n",
    "        if trg.is_cuda:\n",
    "            np_mask.cuda()\n",
    "        trg_mask = trg_mask & np_mask\n",
    "        \n",
    "    else:\n",
    "        trg_mask = None\n",
    "    return src_mask, trg_mask"
   ]
  },
  {
   "cell_type": "code",
   "execution_count": 17,
   "metadata": {
    "id": "9YoUVx4xjEb7"
   },
   "outputs": [],
   "source": [
    "from nltk.corpus import wordnet\n",
    "import re\n",
    "\n",
    "def get_synonym(word, SRC):\n",
    "    syns = wordnet.synsets(word)\n",
    "    for s in syns:\n",
    "        for l in s.lemmas():\n",
    "            if SRC.vocab.stoi[l.name()] != 0:\n",
    "                return SRC.vocab.stoi[l.name()]\n",
    "            \n",
    "    return 0\n",
    "\n",
    "def multiple_replace(dict, text):\n",
    "  # Create a regular expression  from the dictionary keys\n",
    "  regex = re.compile(\"(%s)\" % \"|\".join(map(re.escape, dict.keys())))\n",
    "\n",
    "  # For each match, look-up corresponding value in dictionary\n",
    "  return regex.sub(lambda mo: dict[mo.string[mo.start():mo.end()]], text) "
   ]
  },
  {
   "cell_type": "code",
   "execution_count": 18,
   "metadata": {
    "id": "1IJpUEIMgMbw"
   },
   "outputs": [],
   "source": [
    "def init_vars(src, model, SRC, TRG, device, k, max_len):\n",
    "    \"\"\" Tính toán các ma trận cần thiết trong quá trình translation sau khi mô hình học xong\n",
    "    \"\"\"\n",
    "    init_tok = TRG.vocab.stoi['<sos>']\n",
    "    src_mask = (src != SRC.vocab.stoi['<pad>']).unsqueeze(-2)\n",
    "\n",
    "    # tính sẵn output của encoder \n",
    "    e_output = model.encoder(src, src_mask)\n",
    "    \n",
    "    outputs = torch.LongTensor([[init_tok]])\n",
    "    \n",
    "    outputs = outputs.to(device)\n",
    "    \n",
    "    trg_mask = nopeak_mask(1, device)\n",
    "    # dự đoán kí tự đầu tiên\n",
    "    out = model.out(model.decoder(outputs,\n",
    "    e_output, src_mask, trg_mask))\n",
    "    out = F.softmax(out, dim=-1)\n",
    "    \n",
    "    probs, ix = out[:, -1].data.topk(k)\n",
    "    log_scores = torch.Tensor([math.log(prob) for prob in probs.data[0]]).unsqueeze(0)\n",
    "    \n",
    "    outputs = torch.zeros(k, max_len).long()\n",
    "    outputs = outputs.to(device)\n",
    "    outputs[:, 0] = init_tok\n",
    "    outputs[:, 1] = ix[0]\n",
    "    \n",
    "    e_outputs = torch.zeros(k, e_output.size(-2),e_output.size(-1))\n",
    "   \n",
    "    e_outputs = e_outputs.to(device)\n",
    "    e_outputs[:, :] = e_output[0]\n",
    "    \n",
    "    return outputs, e_outputs, log_scores\n",
    "\n",
    "def k_best_outputs(outputs, out, log_scores, i, k):\n",
    "    \n",
    "    probs, ix = out[:, -1].data.topk(k)\n",
    "    log_probs = torch.Tensor([math.log(p) for p in probs.data.view(-1)]).view(k, -1) + log_scores.transpose(0,1)\n",
    "    k_probs, k_ix = log_probs.view(-1).topk(k)\n",
    "    \n",
    "    row = k_ix // k\n",
    "    col = k_ix % k\n",
    "\n",
    "    outputs[:, :i] = outputs[row, :i]\n",
    "    outputs[:, i] = ix[row, col]\n",
    "\n",
    "    log_scores = k_probs.unsqueeze(0)\n",
    "    \n",
    "    return outputs, log_scores\n",
    "\n",
    "def beam_search(src, model, SRC, TRG, device, k, max_len):    \n",
    "\n",
    "    outputs, e_outputs, log_scores = init_vars(src, model, SRC, TRG, device, k, max_len)\n",
    "    eos_tok = TRG.vocab.stoi['<eos>']\n",
    "    src_mask = (src != SRC.vocab.stoi['<pad>']).unsqueeze(-2)\n",
    "    ind = None\n",
    "    for i in range(2, max_len):\n",
    "    \n",
    "        trg_mask = nopeak_mask(i, device)\n",
    "\n",
    "        out = model.out(model.decoder(outputs[:,:i],\n",
    "        e_outputs, src_mask, trg_mask))\n",
    "\n",
    "        out = F.softmax(out, dim=-1)\n",
    "    \n",
    "        outputs, log_scores = k_best_outputs(outputs, out, log_scores, i, k)\n",
    "        \n",
    "        ones = (outputs==eos_tok).nonzero() # Occurrences of end symbols for all input sentences.\n",
    "        sentence_lengths = torch.zeros(len(outputs), dtype=torch.long).cuda()\n",
    "        for vec in ones:\n",
    "            i = vec[0]\n",
    "            if sentence_lengths[i]==0: # First end symbol has not been found yet\n",
    "                sentence_lengths[i] = vec[1] # Position of first end symbol\n",
    "\n",
    "        num_finished_sentences = len([s for s in sentence_lengths if s > 0])\n",
    "\n",
    "        if num_finished_sentences == k:\n",
    "            alpha = 0.7\n",
    "            div = 1/(sentence_lengths.type_as(log_scores)**alpha)\n",
    "            _, ind = torch.max(log_scores * div, 1)\n",
    "            ind = ind.data[0]\n",
    "            break\n",
    "    \n",
    "    if ind is None:\n",
    "        \n",
    "        length = (outputs[0]==eos_tok).nonzero()[0] if len((outputs[0]==eos_tok).nonzero()) > 0 else -1\n",
    "        return ' '.join([TRG.vocab.itos[tok] for tok in outputs[0][1:length]])\n",
    "    \n",
    "    else:\n",
    "        length = (outputs[ind]==eos_tok).nonzero()[0]\n",
    "        return ' '.join([TRG.vocab.itos[tok] for tok in outputs[ind][1:length]])"
   ]
  },
  {
   "cell_type": "code",
   "execution_count": 19,
   "metadata": {
    "id": "s-AFuSOIhi7X"
   },
   "outputs": [],
   "source": [
    "def translate_sentence(sentence, model, SRC, TRG, device, k, max_len):\n",
    "    \"\"\"Dịch một câu sử dụng beamsearch\n",
    "    \"\"\"\n",
    "    model.eval()\n",
    "    indexed = []\n",
    "    sentence = SRC.preprocess(sentence)\n",
    "    \n",
    "    for tok in sentence:\n",
    "        if SRC.vocab.stoi[tok] != SRC.vocab.stoi['<eos>']:\n",
    "            indexed.append(SRC.vocab.stoi[tok])\n",
    "        else:\n",
    "            indexed.append(get_synonym(tok, SRC))\n",
    "    \n",
    "    sentence = Variable(torch.LongTensor([indexed]))\n",
    "    \n",
    "    sentence = sentence.to(device)\n",
    "    \n",
    "    sentence = beam_search(sentence, model, SRC, TRG, device, k, max_len)\n",
    "\n",
    "    return  multiple_replace({' ?' : '?',' !':'!',' .':'.','\\' ':'\\'',' ,':','}, sentence)"
   ]
  },
  {
   "cell_type": "code",
   "execution_count": 20,
   "metadata": {
    "id": "4Uee4YaQNQI_"
   },
   "outputs": [],
   "source": [
    "import spacy\n",
    "import re\n",
    "\n",
    "class tokenize(object):\n",
    "    \n",
    "    def __init__(self, lang):\n",
    "        self.nlp = spacy.load(lang)\n",
    "            \n",
    "    def tokenizer(self, sentence):\n",
    "        sentence = re.sub(\n",
    "        r\"[\\*\\\"“”\\n\\\\…\\+\\-\\/\\=\\(\\)‘•:\\[\\]\\|’\\!;]\", \" \", str(sentence))\n",
    "        sentence = re.sub(r\"[ ]+\", \" \", sentence)\n",
    "        sentence = re.sub(r\"\\!+\", \"!\", sentence)\n",
    "        sentence = re.sub(r\"\\,+\", \",\", sentence)\n",
    "        sentence = re.sub(r\"\\?+\", \"?\", sentence)\n",
    "        sentence = sentence.lower()\n",
    "        return [tok.text for tok in self.nlp.tokenizer(sentence) if tok.text != \" \"]"
   ]
  },
  {
   "cell_type": "markdown",
   "metadata": {
    "id": "x2jMF9lzQ4a8"
   },
   "source": [
    "## Data loader\n",
    "Sử dụng torchtext để load dữ liệu nhanh chóng"
   ]
  },
  {
   "cell_type": "code",
   "execution_count": 21,
   "metadata": {
    "id": "_uVO0yr_NQJC"
   },
   "outputs": [],
   "source": [
    "import os\n",
    "import dill as pickle\n",
    "import pandas as pd\n",
    "\n",
    "def read_data(src_file, trg_file):\n",
    "    src_data = open(src_file).read().strip().split('\\n')\n",
    "\n",
    "    trg_data = open(trg_file).read().strip().split('\\n')\n",
    " \n",
    "    return src_data, trg_data\n",
    "\n",
    "def create_fields(src_lang, trg_lang):\n",
    "    \n",
    "    print(\"loading spacy tokenizers...\")\n",
    "    \n",
    "    t_src = tokenize(src_lang)\n",
    "    t_trg = tokenize(trg_lang)\n",
    "\n",
    "    TRG = data.Field(lower=True, tokenize=t_trg.tokenizer, init_token='<sos>', eos_token='<eos>')\n",
    "    SRC = data.Field(lower=True, tokenize=t_src.tokenizer)\n",
    "        \n",
    "    return SRC, TRG\n",
    "\n",
    "def create_dataset(src_data, trg_data, max_strlen, batchsize, device, SRC, TRG, istrain=True):\n",
    "\n",
    "    print(\"creating dataset and iterator... \")\n",
    "\n",
    "    raw_data = {'src' : [line for line in src_data], 'trg': [line for line in trg_data]}\n",
    "    df = pd.DataFrame(raw_data, columns=[\"src\", \"trg\"])\n",
    "    \n",
    "    mask = (df['src'].str.count(' ') < max_strlen) & (df['trg'].str.count(' ') < max_strlen)\n",
    "    df = df.loc[mask]\n",
    "\n",
    "    df.to_csv(\"translate_transformer_temp.csv\", index=False)\n",
    "    \n",
    "    data_fields = [('src', SRC), ('trg', TRG)]\n",
    "    train = data.TabularDataset('./translate_transformer_temp.csv', format='csv', fields=data_fields)\n",
    "\n",
    "    train_iter = MyIterator(train, batch_size=batchsize, device=device,\n",
    "                        repeat=False, sort_key=lambda x: (len(x.src), len(x.trg)),\n",
    "                        batch_size_fn=batch_size_fn, train=istrain, shuffle=True)\n",
    "    \n",
    "    os.remove('translate_transformer_temp.csv')\n",
    "    \n",
    "    if istrain:\n",
    "        SRC.build_vocab(train)\n",
    "        TRG.build_vocab(train)\n",
    "\n",
    "    return train_iter\n"
   ]
  },
  {
   "cell_type": "code",
   "execution_count": 22,
   "metadata": {
    "id": "l4POJRxdNQJF"
   },
   "outputs": [],
   "source": [
    "def step(model, optimizer,batch, criterion):\n",
    "    \"\"\"\n",
    "    Một lần cập nhật mô hình\n",
    "    \"\"\"\n",
    "    model.train()\n",
    "    \n",
    "    src = batch.src.transpose(0,1).cuda()\n",
    "    trg = batch.trg.transpose(0,1).cuda()\n",
    "    trg_input = trg[:, :-1]\n",
    "    src_mask, trg_mask = create_masks(src, trg_input, src_pad, trg_pad, opt['device'])\n",
    "    preds = model(src, trg_input, src_mask, trg_mask)\n",
    "\n",
    "    ys = trg[:, 1:].contiguous().view(-1)\n",
    "\n",
    "    optimizer.zero_grad()\n",
    "    loss = criterion(preds.view(-1, preds.size(-1)), ys)\n",
    "    loss.backward()\n",
    "    optimizer.step_and_update_lr()\n",
    "    \n",
    "    loss = loss.item()\n",
    "    \n",
    "    return loss    "
   ]
  },
  {
   "cell_type": "code",
   "execution_count": 23,
   "metadata": {
    "id": "c5sPA-k_NQJI"
   },
   "outputs": [],
   "source": [
    "def validiate(model, valid_iter, criterion):\n",
    "    \"\"\" Tính loss trên tập validation\n",
    "    \"\"\"\n",
    "    model.eval()\n",
    "    \n",
    "    with torch.no_grad():\n",
    "        total_loss = []\n",
    "        for batch in valid_iter:\n",
    "            src = batch.src.transpose(0,1).cuda()\n",
    "            trg = batch.trg.transpose(0,1).cuda()\n",
    "            trg_input = trg[:, :-1]\n",
    "            src_mask, trg_mask = create_masks(src, trg_input, src_pad, trg_pad, opt['device'])\n",
    "            preds = model(src, trg_input, src_mask, trg_mask)\n",
    "\n",
    "            ys = trg[:, 1:].contiguous().view(-1)\n",
    "            \n",
    "            loss = criterion(preds.view(-1, preds.size(-1)), ys)\n",
    "            \n",
    "            loss = loss.item()\n",
    "            \n",
    "            total_loss.append(loss)\n",
    "        \n",
    "    avg_loss = np.mean(total_loss)\n",
    "    \n",
    "    return avg_loss"
   ]
  },
  {
   "cell_type": "markdown",
   "metadata": {
    "id": "QX4b6LLN47qC"
   },
   "source": [
    "# Optimizer\n",
    "Để huấn luyện mô hình transformer, các bạn vẫn sử dụng Adam, tuy nhiên, learning rate cần phải được điều chỉnh trong suốt quá trình học theo công thức sau\n",
    "\n",
    "![alt text](https://raw.githubusercontent.com/pbcquoc/pbcquoc.github.io/master/images/transformer/optimizer.png)\n",
    "\n",
    "![alt text](https://pbcquoc.github.io/images/transformer/opt.png)\n"
   ]
  },
  {
   "cell_type": "code",
   "execution_count": 24,
   "metadata": {
    "id": "OW8pRq91rwJR"
   },
   "outputs": [],
   "source": [
    "class ScheduledOptim():\n",
    "    '''A simple wrapper class for learning rate scheduling'''\n",
    "\n",
    "    def __init__(self, optimizer, init_lr, d_model, n_warmup_steps):\n",
    "        self._optimizer = optimizer\n",
    "        self.init_lr = init_lr\n",
    "        self.d_model = d_model\n",
    "        self.n_warmup_steps = n_warmup_steps\n",
    "        self.n_steps = 0\n",
    "\n",
    "\n",
    "    def step_and_update_lr(self):\n",
    "        \"Step with the inner optimizer\"\n",
    "        self._update_learning_rate()\n",
    "        self._optimizer.step()\n",
    "\n",
    "\n",
    "    def zero_grad(self):\n",
    "        \"Zero out the gradients with the inner optimizer\"\n",
    "        self._optimizer.zero_grad()\n",
    "\n",
    "\n",
    "    def _get_lr_scale(self):\n",
    "        d_model = self.d_model\n",
    "        n_steps, n_warmup_steps = self.n_steps, self.n_warmup_steps\n",
    "        return (d_model ** -0.5) * min(n_steps ** (-0.5), n_steps * n_warmup_steps ** (-1.5))\n",
    "\n",
    "    def state_dict(self):\n",
    "        optimizer_state_dict = {\n",
    "            'init_lr':self.init_lr,\n",
    "            'd_model':self.d_model,\n",
    "            'n_warmup_steps':self.n_warmup_steps,\n",
    "            'n_steps':self.n_steps,\n",
    "            '_optimizer':self._optimizer.state_dict(),\n",
    "        }\n",
    "        \n",
    "        return optimizer_state_dict\n",
    "    \n",
    "    def load_state_dict(self, state_dict):\n",
    "        self.init_lr = state_dict['init_lr']\n",
    "        self.d_model = state_dict['d_model']\n",
    "        self.n_warmup_steps = state_dict['n_warmup_steps']\n",
    "        self.n_steps = state_dict['n_steps']\n",
    "        \n",
    "        self._optimizer.load_state_dict(state_dict['_optimizer'])\n",
    "        \n",
    "    def _update_learning_rate(self):\n",
    "        ''' Learning rate scheduling per step '''\n",
    "\n",
    "        self.n_steps += 1\n",
    "        lr = self.init_lr * self._get_lr_scale()\n",
    "\n",
    "        for param_group in self._optimizer.param_groups:\n",
    "            param_group['lr'] = lr"
   ]
  },
  {
   "cell_type": "markdown",
   "metadata": {
    "id": "TKJoYats5LYn"
   },
   "source": [
    "# Label Smoothing\n",
    "\n",
    "\n"
   ]
  },
  {
   "cell_type": "code",
   "execution_count": 25,
   "metadata": {
    "id": "LHGeSHThtlj-"
   },
   "outputs": [],
   "source": [
    "class LabelSmoothingLoss(nn.Module):\n",
    "    def __init__(self, classes, padding_idx, smoothing=0.0, dim=-1):\n",
    "        super(LabelSmoothingLoss, self).__init__()\n",
    "        self.confidence = 1.0 - smoothing\n",
    "        self.smoothing = smoothing\n",
    "        self.cls = classes\n",
    "        self.dim = dim\n",
    "        self.padding_idx = padding_idx\n",
    "\n",
    "    def forward(self, pred, target):\n",
    "        pred = pred.log_softmax(dim=self.dim)\n",
    "        with torch.no_grad():\n",
    "            # true_dist = pred.data.clone()\n",
    "            true_dist = torch.zeros_like(pred)\n",
    "            true_dist.fill_(self.smoothing / (self.cls - 2))\n",
    "            true_dist.scatter_(1, target.data.unsqueeze(1), self.confidence)\n",
    "            true_dist[:, self.padding_idx] = 0\n",
    "            mask = torch.nonzero(target.data == self.padding_idx, as_tuple=False)\n",
    "            if mask.dim() > 0:\n",
    "                true_dist.index_fill_(0, mask.squeeze(), 0.0)\n",
    "            \n",
    "        return torch.mean(torch.sum(-true_dist * pred, dim=self.dim))"
   ]
  },
  {
   "cell_type": "code",
   "execution_count": 26,
   "metadata": {
    "id": "Sg257Gk_Kzzw"
   },
   "outputs": [],
   "source": [
    "from torchtext.data.metrics import bleu_score\n",
    "\n",
    "def bleu(valid_src_data, valid_trg_data, model, SRC, TRG, device, k, max_strlen):\n",
    "    pred_sents = []\n",
    "    for sentence in valid_src_data:\n",
    "        pred_trg = translate_sentence(sentence, model, SRC, TRG, device, k, max_strlen)\n",
    "        pred_sents.append(pred_trg)\n",
    "    \n",
    "    pred_sents = [TRG.preprocess(sent) for sent in pred_sents]\n",
    "    trg_sents = [[sent.split()] for sent in valid_trg_data]\n",
    "    \n",
    "    return bleu_score(pred_sents, trg_sents)"
   ]
  },
  {
   "cell_type": "code",
   "execution_count": 27,
   "metadata": {
    "id": "Nhgu-SPTNQJL"
   },
   "outputs": [],
   "source": [
    "opt = {\n",
    "    'train_src_data':'./data/train.en',\n",
    "    'train_trg_data':'./data/train.vi',\n",
    "    'valid_src_data':'./data/tst2013.en',\n",
    "    'valid_trg_data':'./data/tst2013.vi',\n",
    "    'src_lang':'en',\n",
    "    'trg_lang':'en',#'vi_spacy_model',\n",
    "    'max_strlen':160,\n",
    "    'batchsize':1500,\n",
    "    'device':'cuda',\n",
    "    'd_model': 512,\n",
    "    'n_layers': 6,\n",
    "    'heads': 16,\n",
    "    'dropout': 0.1,\n",
    "    'lr':0.0001,\n",
    "    'epochs':30,\n",
    "    'printevery': 200,\n",
    "    'k':5,\n",
    "}"
   ]
  },
  {
   "cell_type": "code",
   "execution_count": 28,
   "metadata": {
    "colab": {
     "base_uri": "https://localhost:8080/"
    },
    "id": "7HOay5MrNQJO",
    "outputId": "1160d2b0-5e67-4ae8-e36f-c854111931fc"
   },
   "outputs": [],
   "source": [
    "os.makedirs('./data/', exist_ok=True)\n",
    "# ! gdown --id 1Fuo_ALIFKlUvOPbK5rUA5OfAS2wKn_95\n",
    "\n",
    "#Version2013 8head.\n",
    "#! gdown --id 1KUkzqG8mdxIDEGYW84UJJUuZB2lcs7sD\n",
    "#! gdown --id 17669ho3c27IxHyF3tIQFENJeXMcoYIG8\n",
    "\n",
    "#Version 2012 16 head.\n",
    "# ! gdown --id 1Opk-1xyZT4LFMvXSMJKqX3g7SqIRdsQm\n",
    "# ! gdown --id 1RrJ6E8NZjc0aDZKuY7dqHkH4JwNoUqyK"
   ]
  },
  {
   "cell_type": "code",
   "execution_count": 29,
   "metadata": {
    "colab": {
     "base_uri": "https://localhost:8080/"
    },
    "id": "NIWJTjdLNQJR",
    "outputId": "b58b78c6-0e70-42fa-84dd-bf5549371d6c"
   },
   "outputs": [
    {
     "name": "stdout",
     "output_type": "stream",
     "text": [
      "unzip:  cannot find or open en_vi.zip, en_vi.zip.zip or en_vi.zip.ZIP.\r\n"
     ]
    }
   ],
   "source": [
    "! unzip -o en_vi.zip"
   ]
  },
  {
   "cell_type": "code",
   "execution_count": 30,
   "metadata": {
    "id": "Gnw9xrJeNQJX"
   },
   "outputs": [],
   "source": [
    "import dill\n",
    "with open(\"./SRC16head.Field\", \"rb\")as f:\n",
    "    SRC=dill.load(f)\n",
    "with open(\"./TRG16head.Field\", \"rb\")as f:\n",
    "    TRG=dill.load(f)"
   ]
  },
  {
   "cell_type": "code",
   "execution_count": 31,
   "metadata": {
    "colab": {
     "base_uri": "https://localhost:8080/"
    },
    "id": "NMjXKccEWlaj",
    "outputId": "76ab24df-d48e-437b-fcbd-2a2fb077681f"
   },
   "outputs": [
    {
     "data": {
      "text/plain": [
       "<All keys matched successfully>"
      ]
     },
     "execution_count": 31,
     "metadata": {},
     "output_type": "execute_result"
    }
   ],
   "source": [
    "#version2013 8head.\n",
    "#! gdown --id 1Ty1bGrd0sCwEqXhsoViCUaNKa3lFwmPH\n",
    "\n",
    "#version2012 16 head.\n",
    "# ! gdown --id 1jtJMTEiRHxCt_Ghu8KMzgEcPEhnntGzf\n",
    "\n",
    "# model = Transformer(42498, 20340, 512, 6, 8, 0.1)\n",
    "model = Transformer(len(SRC.vocab), len(TRG.vocab), opt['d_model'], opt['n_layers'], opt['heads'], opt['dropout'])\n",
    "model.load_state_dict(torch.load('./transformer16head.pth'))"
   ]
  },
  {
   "cell_type": "code",
   "execution_count": 32,
   "metadata": {
    "colab": {
     "base_uri": "https://localhost:8080/",
     "height": 35
    },
    "id": "0CwtdJeUNQJo",
    "outputId": "93cb4fb3-53d8-47a5-8abc-f891e4fd0f04"
   },
   "outputs": [
    {
     "data": {
      "text/plain": [
       "'những chú mèo đầy những đặc điểm đáng yêu khiến con người quan tâm đến chúng'"
      ]
     },
     "execution_count": 32,
     "metadata": {},
     "output_type": "execute_result"
    }
   ],
   "source": [
    "model = model.to(opt['device'])\n",
    "model.eval()\n",
    "sentence=\"Cats are chock full of cute characteristics that make humans want to take care of them\"\n",
    "trans_sent = translate_sentence(sentence, model, SRC, TRG, opt['device'], opt['k'], opt['max_strlen'])\n",
    "trans_sent"
   ]
  },
  {
   "cell_type": "markdown",
   "metadata": {
    "id": "A7UYpmmqj31m"
   },
   "source": [
    "# Visualize"
   ]
  },
  {
   "cell_type": "code",
   "execution_count": 33,
   "metadata": {
    "id": "vHeTea84_bDP"
   },
   "outputs": [],
   "source": [
    "import seaborn\n",
    "import matplotlib.pyplot as plt\n",
    "\n",
    "def draw(data, x, y, ax):\n",
    "    seaborn.heatmap(data, \n",
    "                    xticklabels=x, square=True, yticklabels=y, vmin=0.0, vmax=1.0, \n",
    "                    cbar=False, ax=ax, annot=False)"
   ]
  },
  {
   "cell_type": "markdown",
   "metadata": {
    "id": "izoCgA3zNR2i"
   },
   "source": [
    "# Visualize Encoder\n",
    "Dùng heatmap để visualize giá trị attention sẽ cho chúng ta biết khi encode một câu mô hình chú ý từ gì ở lân cận"
   ]
  },
  {
   "cell_type": "code",
   "execution_count": 34,
   "metadata": {
    "colab": {
     "base_uri": "https://localhost:8080/",
     "height": 950
    },
    "id": "rV57CMAZ9XR8",
    "outputId": "3aade6ea-ed77-4db2-d765-64f34d7aceec"
   },
   "outputs": [
    {
     "name": "stdout",
     "output_type": "stream",
     "text": [
      "Encoder Layer 2\n"
     ]
    },
    {
     "data": {
      "image/png": "[encoded data removed]",
      "text/plain": [
       "<Figure size 2160x1080 with 4 Axes>"
      ]
     },
     "metadata": {
      "needs_background": "light"
     },
     "output_type": "display_data"
    },
    {
     "name": "stdout",
     "output_type": "stream",
     "text": [
      "Encoder Layer 4\n"
     ]
    },
    {
     "data": {
      "image/png": "[encoded data removed]",
      "text/plain": [
       "<Figure size 2160x1080 with 4 Axes>"
      ]
     },
     "metadata": {
      "needs_background": "light"
     },
     "output_type": "display_data"
    },
    {
     "name": "stdout",
     "output_type": "stream",
     "text": [
      "Encoder Layer 6\n"
     ]
    },
    {
     "data": {
      "image/png": "[encoded data removed]",
      "text/plain": [
       "<Figure size 2160x1080 with 4 Axes>"
      ]
     },
     "metadata": {
      "needs_background": "light"
     },
     "output_type": "display_data"
    }
   ],
   "source": [
    "sent = SRC.preprocess(sentence)\n",
    "\n",
    "for layer in range(1, 6, 2):\n",
    "    fig, axs = plt.subplots(1,4, figsize=(30, 15))\n",
    "    print(\"Encoder Layer\", layer+1)\n",
    "    for h in range(4):\n",
    "        draw(model.encoder.layers[layer].attn.attn[0, h].data.cpu(), \n",
    "            sent, sent if h ==0 else [], ax=axs[h])\n",
    "    plt.show()"
   ]
  },
  {
   "cell_type": "markdown",
   "metadata": {
    "id": "0M4_pHeqNkr1"
   },
   "source": [
    "# Visualize Decoder\n",
    "Ở decoder, các bạn có 2 loại visualization\n",
    "* self attention: giá trị attention khi mô hình decoder mã hóa câu đích lúc dịch\n",
    "* src attention: giá trị attention khi mô hình decoder sử dụng câu src"
   ]
  },
  {
   "cell_type": "code",
   "execution_count": 35,
   "metadata": {
    "colab": {
     "base_uri": "https://localhost:8080/",
     "height": 1000
    },
    "id": "miQbM9X9-FD7",
    "outputId": "42fc380c-9b68-41b8-f6bf-2c9f224e6c31"
   },
   "outputs": [
    {
     "name": "stdout",
     "output_type": "stream",
     "text": [
      "Decoder Self Layer 2\n"
     ]
    },
    {
     "data": {
      "image/png": "[encoded data removed]",
      "text/plain": [
       "<Figure size 1440x720 with 4 Axes>"
      ]
     },
     "metadata": {
      "needs_background": "light"
     },
     "output_type": "display_data"
    },
    {
     "name": "stdout",
     "output_type": "stream",
     "text": [
      "Decoder Src Layer 2\n"
     ]
    },
    {
     "data": {
      "image/png": "[encoded data removed]",
      "text/plain": [
       "<Figure size 1440x720 with 4 Axes>"
      ]
     },
     "metadata": {
      "needs_background": "light"
     },
     "output_type": "display_data"
    },
    {
     "name": "stdout",
     "output_type": "stream",
     "text": [
      "Decoder Self Layer 4\n"
     ]
    },
    {
     "data": {
      "image/png": "[encoded data removed]",
      "text/plain": [
       "<Figure size 1440x720 with 4 Axes>"
      ]
     },
     "metadata": {
      "needs_background": "light"
     },
     "output_type": "display_data"
    },
    {
     "name": "stdout",
     "output_type": "stream",
     "text": [
      "Decoder Src Layer 4\n"
     ]
    },
    {
     "data": {
      "image/png": "[encoded data removed]",
      "text/plain": [
       "<Figure size 1440x720 with 4 Axes>"
      ]
     },
     "metadata": {
      "needs_background": "light"
     },
     "output_type": "display_data"
    },
    {
     "name": "stdout",
     "output_type": "stream",
     "text": [
      "Decoder Self Layer 6\n"
     ]
    },
    {
     "data": {
      "image/png": "[encoded data removed]",
      "text/plain": [
       "<Figure size 1440x720 with 4 Axes>"
      ]
     },
     "metadata": {
      "needs_background": "light"
     },
     "output_type": "display_data"
    },
    {
     "name": "stdout",
     "output_type": "stream",
     "text": [
      "Decoder Src Layer 6\n"
     ]
    },
    {
     "data": {
      "image/png": "[encoded data removed]",
      "text/plain": [
       "<Figure size 1440x720 with 4 Axes>"
      ]
     },
     "metadata": {
      "needs_background": "light"
     },
     "output_type": "display_data"
    }
   ],
   "source": [
    "trg_sent = ['<sos>'] + TRG.preprocess(trans_sent)\n",
    "\n",
    "for layer in range(1, 6, 2):\n",
    "    fig, axs = plt.subplots(1,4, figsize=(20, 10))\n",
    "    print(\"Decoder Self Layer\", layer+1)\n",
    "    for h in range(4):\n",
    "        draw(model.decoder.layers[layer].attn_1.attn[0, h].data[:len(trg_sent), :len(trg_sent)].cpu(), \n",
    "            trg_sent, trg_sent if h ==0 else [], ax=axs[h])\n",
    "    plt.show()\n",
    "    print(\"Decoder Src Layer\", layer+1)\n",
    "    fig, axs = plt.subplots(1,4, figsize=(20, 10))\n",
    "    for h in range(4):\n",
    "        draw(model.decoder.layers[layer].attn_2.attn[0, h].data[:len(trg_sent), :len(sent)].cpu(), \n",
    "            sent, trg_sent if h ==0 else [], ax=axs[h])\n",
    "    plt.show()"
   ]
  },
  {
   "cell_type": "code",
   "execution_count": null,
   "metadata": {
    "id": "s_-5cGJYKiUq"
   },
   "outputs": [],
   "source": []
  }
 ],
 "metadata": {
  "accelerator": "GPU",
  "colab": {
   "collapsed_sections": [
    "48SiXL_zQQ9C",
    "lk1c6NkYIeG8",
    "Qip-E_TAIpmJ",
    "gDVQGAaMI5UU",
    "x2jMF9lzQ4a8",
    "QX4b6LLN47qC"
   ],
   "name": "transformer_Import.ipynb",
   "provenance": []
  },
  "kernelspec": {
   "display_name": "Python 3",
   "language": "python",
   "name": "python3"
  },
  "language_info": {
   "codemirror_mode": {
    "name": "ipython",
    "version": 3
   },
   "file_extension": ".py",
   "mimetype": "text/x-python",
   "name": "python",
   "nbconvert_exporter": "python",
   "pygments_lexer": "ipython3",
   "version": "3.7.10"
  }
 },
 "nbformat": 4,
 "nbformat_minor": 1
}
